{
  "metadata": {
    "language_info": {
      "codemirror_mode": {
        "name": "python",
        "version": 3
      },
      "file_extension": ".py",
      "mimetype": "text/x-python",
      "name": "python",
      "nbconvert_exporter": "python",
      "pygments_lexer": "ipython3",
      "version": "3.8"
    },
    "kernelspec": {
      "name": "python",
      "display_name": "Python (Pyodide)",
      "language": "python"
    }
  },
  "nbformat_minor": 4,
  "nbformat": 4,
  "cells": [
    {
      "cell_type": "markdown",
      "source": "#### Mariah Hall\n#### Bio 125- Tuesday Lab\n#### 8/20/23",
      "metadata": {}
    },
    {
      "cell_type": "markdown",
      "source": "# Laboratory 1- Physiological Instrumentation Report",
      "metadata": {}
    },
    {
      "cell_type": "markdown",
      "source": "#### Purpose:\n            The purpose of this lab is to become familiar with obtaining accurate measurements and\n            understanding how important accuracy of these measurements are for physiological parameters.\n            This lab also is meant to teach and explain the difference between chemical determinations\n            and physical determinations. Lastly, it introduces devices and equipment that may be used \n            to complete human physiology experiments. \n\n        ",
      "metadata": {}
    },
    {
      "cell_type": "markdown",
      "source": "#### Procedures:\n         1-A Demystifying the black box\n            - Observe the operation of these instruments.\n            - Make a concerted effort to recognize and identify each on sight.\n            - Understand the application of the \"black box\" instrumentation to experiments and\n            measurements of human physiological events.\n        1-B Units of measure\n            - Become familiar with the basic metric units of measure.\n            - Learn the basic unit of each measurement.\n            - Understand the significance of the prefixes of each unit.\n            - Be able to convert metric units of measure.",
      "metadata": {}
    },
    {
      "cell_type": "markdown",
      "source": "#### Results:\n            The results of this lab are specific to measurements obtained. The matter of being able to\n            properly use devices needed to measure accurately and the ability to understand the units\n            of measure being used in vital in determining results.\n  ",
      "metadata": {}
    },
    {
      "cell_type": "markdown",
      "source": "#### Discussion:\n            Personally, the lab 1 material was mostly review. I am familiar with the metric system \n            and conversions. I have also had the opportunity to use pH paper, balance scales, rulers \n            and beakers in previous science courses. Errors can occur if the measurement taken is \n            incorrect or not in the correct units. Additional errors could include incorrect math\n            and rounding problems. Despite most of the lab being review, the application of the\n            \"black box\" was something new to me.I am excited to work with all the different devices\n            and instruments discussed and look forward to upcoming experiments.",
      "metadata": {}
    },
    {
      "cell_type": "markdown",
      "source": "#### Conclusion:\n            In conclusion, human physiology experiments are going to require precise measurements.\n            It is important to know the different devices/equipment, understand the units and which\n            is appropriate to conduct an experiment and why.\n            ",
      "metadata": {}
    },
    {
      "cell_type": "code",
      "source": "",
      "metadata": {},
      "execution_count": null,
      "outputs": []
    }
  ]
}